{
 "cells": [
  {
   "cell_type": "code",
   "execution_count": 6,
   "metadata": {},
   "outputs": [],
   "source": [
    "import pandas as pd\n",
    "import numpy as np"
   ]
  },
  {
   "cell_type": "code",
   "execution_count": 8,
   "metadata": {},
   "outputs": [],
   "source": [
    "tbond_daiy = pd.read_csv('TBond_curve.csv', index_col=\"Date\")\n",
    "tbond_daiy.index = pd.to_datetime(tbond_daiy.index)\n",
    "tbond_daiy = tbond_daiy.drop(['20 Yr', '30 Yr', '1.5 Month'], axis=1)\n",
    "tbond_daiy = tbond_daiy.interpolate(axis=1)\n",
    "tbond_daiy = tbond_daiy.dropna(axis=0)"
   ]
  },
  {
   "cell_type": "code",
   "execution_count": 11,
   "metadata": {},
   "outputs": [],
   "source": [
    "maturities = np.unique([\n",
    "    int(col.split()[0]) / 12 if \"Mo\" in col else int(col.split()[0])\n",
    "    for col in tbond_daiy.columns\n",
    "])\n",
    "\n",
    "curve_maturities = np.arange(start=maturities.min(), stop=maturities.max()+maturities.min(), step=maturities.min()).round(4)\n",
    "\n",
    "# Define parameter bounds for optimization: \n",
    "bounds = [(0, 1), (-1, 1), (-1, 1), (0, 2)] # Intercept (β0), Slope (β1), Curvature (β2), and Decay Factor (λ)\n",
    "x0 = [0.01, 0.01, 0.01, 0.5] # Initial guess for the optimization algorithm\n",
    "method = 'Nelder-Mead' # Optimization method used for minimization\n",
    "\n",
    "# Aggregate daily bond yields to weekly frequency using median\n",
    "yields_weekly = tbond_daiy.resample('W').median()\n",
    "# Keep only the last observation of the dataset\n",
    "yields_today = tbond_daiy.iloc[-1].to_frame().T"
   ]
  },
  {
   "cell_type": "code",
   "execution_count": 10,
   "metadata": {},
   "outputs": [
    {
     "data": {
      "text/html": [
       "<div>\n",
       "<style scoped>\n",
       "    .dataframe tbody tr th:only-of-type {\n",
       "        vertical-align: middle;\n",
       "    }\n",
       "\n",
       "    .dataframe tbody tr th {\n",
       "        vertical-align: top;\n",
       "    }\n",
       "\n",
       "    .dataframe thead th {\n",
       "        text-align: right;\n",
       "    }\n",
       "</style>\n",
       "<table border=\"1\" class=\"dataframe\">\n",
       "  <thead>\n",
       "    <tr style=\"text-align: right;\">\n",
       "      <th></th>\n",
       "      <th>1 Mo</th>\n",
       "      <th>2 Mo</th>\n",
       "      <th>3 Mo</th>\n",
       "      <th>4 Mo</th>\n",
       "      <th>6 Mo</th>\n",
       "      <th>1 Yr</th>\n",
       "      <th>2 Yr</th>\n",
       "      <th>3 Yr</th>\n",
       "      <th>5 Yr</th>\n",
       "      <th>7 Yr</th>\n",
       "      <th>10 Yr</th>\n",
       "    </tr>\n",
       "  </thead>\n",
       "  <tbody>\n",
       "    <tr>\n",
       "      <th>2025-02-25</th>\n",
       "      <td>4.34</td>\n",
       "      <td>4.37</td>\n",
       "      <td>4.3</td>\n",
       "      <td>4.33</td>\n",
       "      <td>4.28</td>\n",
       "      <td>4.12</td>\n",
       "      <td>4.07</td>\n",
       "      <td>4.08</td>\n",
       "      <td>4.12</td>\n",
       "      <td>4.21</td>\n",
       "      <td>4.3</td>\n",
       "    </tr>\n",
       "  </tbody>\n",
       "</table>\n",
       "</div>"
      ],
      "text/plain": [
       "            1 Mo  2 Mo  3 Mo  4 Mo  6 Mo  1 Yr  2 Yr  3 Yr  5 Yr  7 Yr  10 Yr\n",
       "2025-02-25  4.34  4.37   4.3  4.33  4.28  4.12  4.07  4.08  4.12  4.21    4.3"
      ]
     },
     "execution_count": 10,
     "metadata": {},
     "output_type": "execute_result"
    }
   ],
   "source": [
    "yields_today"
   ]
  },
  {
   "cell_type": "code",
   "execution_count": null,
   "metadata": {},
   "outputs": [],
   "source": []
  }
 ],
 "metadata": {
  "kernelspec": {
   "display_name": "Python 3",
   "language": "python",
   "name": "python3"
  },
  "language_info": {
   "codemirror_mode": {
    "name": "ipython",
    "version": 3
   },
   "file_extension": ".py",
   "mimetype": "text/x-python",
   "name": "python",
   "nbconvert_exporter": "python",
   "pygments_lexer": "ipython3",
   "version": "3.11.9"
  }
 },
 "nbformat": 4,
 "nbformat_minor": 2
}
